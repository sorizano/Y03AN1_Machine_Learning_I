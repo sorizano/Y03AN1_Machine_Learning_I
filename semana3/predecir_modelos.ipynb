{
 "cells": [
  {
   "cell_type": "code",
   "execution_count": 1,
   "id": "0e2e2e1e",
   "metadata": {},
   "outputs": [],
   "source": [
    "import pandas as pd\n",
    "import os\n",
    "import joblib"
   ]
  },
  {
   "cell_type": "code",
   "execution_count": 2,
   "id": "b4a1e8a2",
   "metadata": {},
   "outputs": [],
   "source": [
    "#Cargar modelos ya entrenados y scaler\n",
    "modelo_arbol = joblib.load('./entrenamiento/modelo_arbol.pkl')\n",
    "modelo_random = joblib.load('./entrenamiento/modelo_random.pkl')\n",
    "scaler = joblib.load('./entrenamiento/scaler.pkl')"
   ]
  },
  {
   "cell_type": "code",
   "execution_count": 3,
   "id": "182488d0",
   "metadata": {},
   "outputs": [],
   "source": [
    "#leer nuevos datos a predecir\n",
    "nuevos_datos = pd.read_csv('../data_sintetica/nuevos_datos_sem3.csv')"
   ]
  },
  {
   "cell_type": "code",
   "execution_count": 4,
   "id": "d4be7560",
   "metadata": {},
   "outputs": [],
   "source": [
    "#Guardar una copia original para agregar predicciones\n",
    "original = nuevos_datos.copy"
   ]
  },
  {
   "cell_type": "code",
   "execution_count": 5,
   "id": "7dae588b",
   "metadata": {},
   "outputs": [],
   "source": [
    "#Convertir categorias -> dummies\n",
    "nuevos_dummies = pd.get_dummies(nuevos_datos, columns=['mineral'], drop_first=True)"
   ]
  },
  {
   "cell_type": "code",
   "execution_count": 7,
   "id": "b53414dd",
   "metadata": {},
   "outputs": [],
   "source": [
    "#Asegurar que las columnas coincidan con las del entrenamiento\n",
    "# Esto lo hacemos leyendo las columnas del scaler\n",
    "columnas_entrenamiento = scaler.feature_names_in_\n",
    "nuevos_dummies = nuevos_dummies.reindex(columns=columnas_entrenamiento, fill_value=0)"
   ]
  },
  {
   "cell_type": "code",
   "execution_count": 9,
   "id": "e1b0f3e0",
   "metadata": {},
   "outputs": [],
   "source": [
    "# Escalar los nuevos datos\n",
    "nuevos_scaled = scaler.transform(nuevos_dummies)"
   ]
  },
  {
   "cell_type": "code",
   "execution_count": 13,
   "id": "0a0f0876",
   "metadata": {},
   "outputs": [
    {
     "name": "stdout",
     "output_type": "stream",
     "text": [
      "<class 'method'>\n"
     ]
    }
   ],
   "source": [
    "print(type(original))"
   ]
  },
  {
   "cell_type": "code",
   "execution_count": 17,
   "id": "2d8da26c",
   "metadata": {},
   "outputs": [],
   "source": [
    "#Predicciones\n",
    "df_predicciones = nuevos_datos.copy()\n",
    "df_predicciones['prediccion_arbol'] = modelo_arbol.predict(nuevos_scaled)\n",
    "df_predicciones['prediccion_random'] = modelo_random.predict(nuevos_scaled)\n",
    "df_predicciones.to_csv('../resultado de modelos/predicciones_sem3.csv', index=False)"
   ]
  }
 ],
 "metadata": {
  "kernelspec": {
   "display_name": "venv_ML_I",
   "language": "python",
   "name": "python3"
  },
  "language_info": {
   "codemirror_mode": {
    "name": "ipython",
    "version": 3
   },
   "file_extension": ".py",
   "mimetype": "text/x-python",
   "name": "python",
   "nbconvert_exporter": "python",
   "pygments_lexer": "ipython3",
   "version": "3.13.1"
  }
 },
 "nbformat": 4,
 "nbformat_minor": 5
}
