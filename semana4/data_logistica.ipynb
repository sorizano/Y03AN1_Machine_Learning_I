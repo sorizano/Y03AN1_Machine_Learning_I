{
 "cells": [
  {
   "cell_type": "code",
   "execution_count": 6,
   "id": "20ab6409",
   "metadata": {},
   "outputs": [
    {
     "name": "stdout",
     "output_type": "stream",
     "text": [
      "Data sintética creada y guardada.\n",
      "PKL guardado en d:\\IC\\Y03AN1_Machine_Learning_I\\data_sintetica\\data_logistica.pkl\n",
      "Muestra de los primeros 5 registros:\n",
      "   id_envio  peso_kg  distancia_km  tiempo_entrega_hr  numero_paradas  \\\n",
      "0         1    54.97        346.31               62.0               3   \n",
      "1         2    48.62        395.47               57.2               1   \n",
      "2         3    56.48        230.07               48.6               5   \n",
      "3         4    65.23        328.15               41.5               2   \n",
      "4         5    47.66        267.47               55.0               6   \n",
      "\n",
      "   costo_envio_usd  tiempo_almacen_dias  \n",
      "0           109.01                 1.33  \n",
      "1            62.60                 1.79  \n",
      "2            76.76                 2.02  \n",
      "3            94.34                 2.06  \n",
      "4            93.98                 1.91  \n"
     ]
    }
   ],
   "source": [
    "# Corregir el error de sintaxis y volver a ejecutar\n",
    "\n",
    "import os\n",
    "import pandas as pd\n",
    "import numpy as np\n",
    "\n",
    "#Ruta absoluta a la carpeta raiz\n",
    "BASE_DIR = os.path.abspath(os.path.join(os.getcwd(), '..'))\n",
    "\n",
    "#crear carpetas en la raiz del proyecto\n",
    "data_sintetica_dir = os.path.join(BASE_DIR, 'data_sintetica')\n",
    "resultados_dir = os.path.join(BASE_DIR, 'resultado de modelos')\n",
    "\n",
    "os.makedirs(data_sintetica_dir, exist_ok=True)\n",
    "os.makedirs(resultados_dir, exist_ok=True)\n",
    "\n",
    "# Generar una data sintética basada en una empresa logística\n",
    "np.random.seed(42)\n",
    "n = 500\n",
    "\n",
    "data = pd.DataFrame({\n",
    "    'id_envio': range(1, n+1),\n",
    "    'peso_kg': np.random.normal(loc=50, scale=10, size=n).round(2),\n",
    "    'distancia_km': np.random.normal(loc=300, scale=50, size=n).round(2),\n",
    "    'tiempo_entrega_hr': np.random.normal(loc=48, scale=10, size=n).round(1),\n",
    "    'numero_paradas': np.random.poisson(3, n),\n",
    "    'costo_envio_usd': np.random.normal(loc=100, scale=20, size=n).round(2),\n",
    "    'tiempo_almacen_dias': np.random.normal(loc=2, scale=0.5, size=n).round(2)\n",
    "})\n",
    "\n",
    "# Guardar los archivos\n",
    "pkl_path = os.path.join(data_sintetica_dir, 'data_logistica.pkl')\n",
    "data.to_pickle(pkl_path)\n",
    "\n",
    "# Mostrar una muestra por consola\n",
    "print(\"Data sintética creada y guardada.\")\n",
    "print(f\"PKL guardado en {pkl_path}\")\n",
    "\n",
    "print(\"Muestra de los primeros 5 registros:\")\n",
    "print(data.head())"
   ]
  }
 ],
 "metadata": {
  "kernelspec": {
   "display_name": "venv_ML_I",
   "language": "python",
   "name": "python3"
  },
  "language_info": {
   "codemirror_mode": {
    "name": "ipython",
    "version": 3
   },
   "file_extension": ".py",
   "mimetype": "text/x-python",
   "name": "python",
   "nbconvert_exporter": "python",
   "pygments_lexer": "ipython3",
   "version": "3.13.1"
  }
 },
 "nbformat": 4,
 "nbformat_minor": 5
}
