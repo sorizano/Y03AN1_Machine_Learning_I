{
 "cells": [
  {
   "cell_type": "code",
   "execution_count": 1,
   "id": "89c4a3ea",
   "metadata": {},
   "outputs": [],
   "source": [
    "import pandas as pd\n",
    "import os\n",
    "import joblib"
   ]
  },
  {
   "cell_type": "code",
   "execution_count": 8,
   "id": "7fa9b2e6",
   "metadata": {},
   "outputs": [],
   "source": [
    "#Rutas\n",
    "data_path = \"../data_sintetica/clientes_compras_test.csv\"\n",
    "modelo_svm_path = os.path.join(\"entrenamiento\", \"modelo_svm.pkl\")\n",
    "modelo_rf_path = os.path.join(\"entrenamiento\", \"modelo_rf.pkl\")\n",
    "output_path = \"../resultado de modelos/predicciones_clientes.xlsx\""
   ]
  },
  {
   "cell_type": "code",
   "execution_count": 3,
   "id": "ccc3116a",
   "metadata": {},
   "outputs": [],
   "source": [
    "#carga la nueva data\n",
    "df = pd.read_csv(data_path)\n",
    "X_nuevo = df.drop(columns=[\"DNI\", \"compra_estacional\"])"
   ]
  },
  {
   "cell_type": "code",
   "execution_count": 4,
   "id": "bf57fa52",
   "metadata": {},
   "outputs": [],
   "source": [
    "#cargar modelos entrenados\n",
    "modelo_svm = joblib.load(modelo_svm_path)\n",
    "modelo_rf = joblib.load(modelo_rf_path)"
   ]
  },
  {
   "cell_type": "code",
   "execution_count": 5,
   "id": "99f11f89",
   "metadata": {},
   "outputs": [],
   "source": [
    "#Generar predicciones\n",
    "df[\"pred_svm\"] = modelo_svm.predict(X_nuevo)\n",
    "df[\"pred_rf\"] = modelo_rf.predict(X_nuevo)"
   ]
  },
  {
   "cell_type": "code",
   "execution_count": 9,
   "id": "457e0f18",
   "metadata": {},
   "outputs": [
    {
     "name": "stdout",
     "output_type": "stream",
     "text": [
      "Predicciones guardadas en: ../resultado de modelos/predicciones_clientes.xlsx\n"
     ]
    }
   ],
   "source": [
    "#guardar el resultado\n",
    "df_resultado = df[[\"DNI\", \"sexo\", \"edad\", \"frecuencia_ultimos_3m\", \"gasto_promedio\", \"temporada\", \"pred_svm\",\"pred_rf\"]]\n",
    "df_resultado.to_excel(output_path, index=False)\n",
    "\n",
    "print(f\"Predicciones guardadas en: {output_path}\")"
   ]
  }
 ],
 "metadata": {
  "kernelspec": {
   "display_name": "venv_ML_I",
   "language": "python",
   "name": "python3"
  },
  "language_info": {
   "codemirror_mode": {
    "name": "ipython",
    "version": 3
   },
   "file_extension": ".py",
   "mimetype": "text/x-python",
   "name": "python",
   "nbconvert_exporter": "python",
   "pygments_lexer": "ipython3",
   "version": "3.13.1"
  }
 },
 "nbformat": 4,
 "nbformat_minor": 5
}
