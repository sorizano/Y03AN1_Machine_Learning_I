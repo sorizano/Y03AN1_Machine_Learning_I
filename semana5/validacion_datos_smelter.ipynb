{
 "cells": [
  {
   "cell_type": "markdown",
   "id": "42eb9baa",
   "metadata": {},
   "source": [
    "## Bloque 1 - Configuración Inicial"
   ]
  },
  {
   "cell_type": "code",
   "execution_count": 4,
   "id": "ffaa22b7",
   "metadata": {},
   "outputs": [],
   "source": [
    "import glob\n",
    "import os\n",
    "\n",
    "from datetime import datetime\n",
    "from pathlib import Path\n",
    "\n",
    "import pandas as pd\n",
    "import numpy as np\n",
    "import sys\n",
    "import json"
   ]
  },
  {
   "cell_type": "code",
   "execution_count": 5,
   "id": "b2e7128c",
   "metadata": {},
   "outputs": [],
   "source": [
    "#Parámetros de validación\n",
    "pattern = \"fundicion_ilo_*.pkl\"\n",
    "max_neg_net = 0.5\n",
    "report_name = None\n",
    "fail_on_error = False"
   ]
  },
  {
   "cell_type": "code",
   "execution_count": 6,
   "id": "90d09510",
   "metadata": {},
   "outputs": [],
   "source": [
    "#Rutas\n",
    "BASE_DIR = Path.cwd()\n",
    "DATA_DIR = BASE_DIR.parent/\"data_sintetica\"\n",
    "OUT_DIR = BASE_DIR/\"resultado de modelos\"\n",
    "OUT_DIR.mkdir(exist_ok=True, parents=True)"
   ]
  },
  {
   "cell_type": "code",
   "execution_count": 7,
   "id": "26659fef",
   "metadata": {},
   "outputs": [
    {
     "name": "stdout",
     "output_type": "stream",
     "text": [
      "PKL encontrado: d:\\IC\\Y03AN1_Machine_Learning_I\\data_sintetica\\fundicion_ilo_20250814_2015.pkl\n"
     ]
    }
   ],
   "source": [
    "#Busca el PKL más reciente\n",
    "pkls = sorted(glob.glob(str(DATA_DIR/pattern)))\n",
    "if not pkls:\n",
    "    raise FileNotFoundError(f\"No se encontró ningún PKL con patrón '{pattern}' en {DATA_DIR}\")\n",
    "\n",
    "PKL_PATH = Path(pkls[-1])\n",
    "print(f\"PKL encontrado: {PKL_PATH}\")"
   ]
  },
  {
   "cell_type": "markdown",
   "id": "58bab38f",
   "metadata": {},
   "source": [
    "## Bloque 2 - Configuración de validación"
   ]
  },
  {
   "cell_type": "code",
   "execution_count": 8,
   "id": "465714de",
   "metadata": {},
   "outputs": [],
   "source": [
    "# Columnas esperadas\n",
    "ESPERADO = [\"id_lote\",\"fecha_llegada\",\"proveedor\",\"puerto_origen\",\"mineral\",\"metodo_transporte\",\n",
    "    \"peso_tn\",\"ley_cu_pct\",\"humedad_pct\",\"recuperacion_pct\",\"precio_lme_usd_lb\",\n",
    "    \"tc_usd_tn\",\"costo_logistico_usd_tn\",\"penalidad_as_usd_tn\",\"ingreso_neto_usd\"]"
   ]
  },
  {
   "cell_type": "code",
   "execution_count": 9,
   "id": "dfa7c8a6",
   "metadata": {},
   "outputs": [],
   "source": [
    "#Rangos aceptables\n",
    "RANGOS = {\n",
    "    'ley_cu_pct': (18, 36),\n",
    "    'humedad_pct': (6, 11.5),\n",
    "    'recuperacion_pct': (93, 98.5),\n",
    "    'precio_lme_usd_lb': (3.2, 5.2),\n",
    "    'tc_usd_tn': (70, 130),\n",
    "    'costo_logistico_usd_tn': (18, 48),\n",
    "    'penalidad_as_usd_tn': (0, 45),\n",
    "    'peso_tn': (8000, 40000),\n",
    "}"
   ]
  },
  {
   "cell_type": "code",
   "execution_count": 11,
   "id": "aed86566",
   "metadata": {},
   "outputs": [],
   "source": [
    "#Lista de columnas por tipo\n",
    "NUM_COLS = ['peso_tn','ley_cu_pct','humedad_pct','recuperacion_pct','precio_lme_usd_lb',\n",
    "            'tc_usd_tn','costo_logistico_usd_tn','penalidad_as_usd_tn','ingreso_neto_usd']\n",
    "\n",
    "CAT_COLS = ['proveedor','puerto_origen','mineral','metodo_transporte']"
   ]
  },
  {
   "cell_type": "code",
   "execution_count": 12,
   "id": "1050353f",
   "metadata": {},
   "outputs": [],
   "source": [
    "#Función para detectar fuera de rango\n",
    "def fuera_de_rango(s: pd.Series, lo: float, hi: float) -> pd.Series:\n",
    "    return (s < lo) | (s > hi)"
   ]
  },
  {
   "cell_type": "code",
   "execution_count": 14,
   "id": "ba259cc4",
   "metadata": {},
   "outputs": [
    {
     "name": "stdout",
     "output_type": "stream",
     "text": [
      "DataFrame cargado con 5,000 filas y 15 columnas\n"
     ]
    },
    {
     "data": {
      "text/html": [
       "<div>\n",
       "<style scoped>\n",
       "    .dataframe tbody tr th:only-of-type {\n",
       "        vertical-align: middle;\n",
       "    }\n",
       "\n",
       "    .dataframe tbody tr th {\n",
       "        vertical-align: top;\n",
       "    }\n",
       "\n",
       "    .dataframe thead th {\n",
       "        text-align: right;\n",
       "    }\n",
       "</style>\n",
       "<table border=\"1\" class=\"dataframe\">\n",
       "  <thead>\n",
       "    <tr style=\"text-align: right;\">\n",
       "      <th></th>\n",
       "      <th>id_lote</th>\n",
       "      <th>fecha_llegada</th>\n",
       "      <th>proveedor</th>\n",
       "      <th>puerto_origen</th>\n",
       "      <th>mineral</th>\n",
       "      <th>metodo_transporte</th>\n",
       "      <th>peso_tn</th>\n",
       "      <th>ley_cu_pct</th>\n",
       "      <th>humedad_pct</th>\n",
       "      <th>recuperacion_pct</th>\n",
       "      <th>precio_lme_usd_lb</th>\n",
       "      <th>tc_usd_tn</th>\n",
       "      <th>costo_logistico_usd_tn</th>\n",
       "      <th>penalidad_as_usd_tn</th>\n",
       "      <th>ingreso_neto_usd</th>\n",
       "    </tr>\n",
       "  </thead>\n",
       "  <tbody>\n",
       "    <tr>\n",
       "      <th>0</th>\n",
       "      <td>L-202406-00001</td>\n",
       "      <td>2024-06-02</td>\n",
       "      <td>Proveedor_09</td>\n",
       "      <td>Paita</td>\n",
       "      <td>cobre</td>\n",
       "      <td>tren</td>\n",
       "      <td>22345.39</td>\n",
       "      <td>29.16</td>\n",
       "      <td>6.83</td>\n",
       "      <td>96.12</td>\n",
       "      <td>4.097</td>\n",
       "      <td>79.25</td>\n",
       "      <td>20.12</td>\n",
       "      <td>0.34</td>\n",
       "      <td>52352585.96</td>\n",
       "    </tr>\n",
       "    <tr>\n",
       "      <th>1</th>\n",
       "      <td>L-202505-00002</td>\n",
       "      <td>2025-05-01</td>\n",
       "      <td>Proveedor_15</td>\n",
       "      <td>Mejillones</td>\n",
       "      <td>cobre</td>\n",
       "      <td>tren</td>\n",
       "      <td>22004.23</td>\n",
       "      <td>35.53</td>\n",
       "      <td>7.96</td>\n",
       "      <td>97.08</td>\n",
       "      <td>3.865</td>\n",
       "      <td>97.07</td>\n",
       "      <td>31.32</td>\n",
       "      <td>3.28</td>\n",
       "      <td>59505579.17</td>\n",
       "    </tr>\n",
       "    <tr>\n",
       "      <th>2</th>\n",
       "      <td>L-202411-00003</td>\n",
       "      <td>2024-11-17</td>\n",
       "      <td>Proveedor_16</td>\n",
       "      <td>Arica</td>\n",
       "      <td>cobre</td>\n",
       "      <td>barco</td>\n",
       "      <td>8213.76</td>\n",
       "      <td>28.98</td>\n",
       "      <td>7.24</td>\n",
       "      <td>95.70</td>\n",
       "      <td>3.792</td>\n",
       "      <td>101.38</td>\n",
       "      <td>42.52</td>\n",
       "      <td>6.18</td>\n",
       "      <td>17145773.90</td>\n",
       "    </tr>\n",
       "    <tr>\n",
       "      <th>3</th>\n",
       "      <td>L-202406-00004</td>\n",
       "      <td>2024-06-06</td>\n",
       "      <td>Proveedor_10</td>\n",
       "      <td>Callao</td>\n",
       "      <td>cobre</td>\n",
       "      <td>barco</td>\n",
       "      <td>24789.30</td>\n",
       "      <td>26.83</td>\n",
       "      <td>10.80</td>\n",
       "      <td>95.46</td>\n",
       "      <td>4.072</td>\n",
       "      <td>106.95</td>\n",
       "      <td>29.77</td>\n",
       "      <td>10.64</td>\n",
       "      <td>51363864.59</td>\n",
       "    </tr>\n",
       "    <tr>\n",
       "      <th>4</th>\n",
       "      <td>L-202405-00005</td>\n",
       "      <td>2024-05-02</td>\n",
       "      <td>Proveedor_05</td>\n",
       "      <td>Paita</td>\n",
       "      <td>cobre</td>\n",
       "      <td>barco</td>\n",
       "      <td>15702.17</td>\n",
       "      <td>25.61</td>\n",
       "      <td>9.51</td>\n",
       "      <td>96.66</td>\n",
       "      <td>3.831</td>\n",
       "      <td>105.00</td>\n",
       "      <td>29.17</td>\n",
       "      <td>6.53</td>\n",
       "      <td>29476513.33</td>\n",
       "    </tr>\n",
       "  </tbody>\n",
       "</table>\n",
       "</div>"
      ],
      "text/plain": [
       "          id_lote fecha_llegada     proveedor puerto_origen mineral  \\\n",
       "0  L-202406-00001    2024-06-02  Proveedor_09         Paita   cobre   \n",
       "1  L-202505-00002    2025-05-01  Proveedor_15    Mejillones   cobre   \n",
       "2  L-202411-00003    2024-11-17  Proveedor_16         Arica   cobre   \n",
       "3  L-202406-00004    2024-06-06  Proveedor_10        Callao   cobre   \n",
       "4  L-202405-00005    2024-05-02  Proveedor_05         Paita   cobre   \n",
       "\n",
       "  metodo_transporte   peso_tn  ley_cu_pct  humedad_pct  recuperacion_pct  \\\n",
       "0              tren  22345.39       29.16         6.83             96.12   \n",
       "1              tren  22004.23       35.53         7.96             97.08   \n",
       "2             barco   8213.76       28.98         7.24             95.70   \n",
       "3             barco  24789.30       26.83        10.80             95.46   \n",
       "4             barco  15702.17       25.61         9.51             96.66   \n",
       "\n",
       "   precio_lme_usd_lb  tc_usd_tn  costo_logistico_usd_tn  penalidad_as_usd_tn  \\\n",
       "0              4.097      79.25                   20.12                 0.34   \n",
       "1              3.865      97.07                   31.32                 3.28   \n",
       "2              3.792     101.38                   42.52                 6.18   \n",
       "3              4.072     106.95                   29.77                10.64   \n",
       "4              3.831     105.00                   29.17                 6.53   \n",
       "\n",
       "   ingreso_neto_usd  \n",
       "0       52352585.96  \n",
       "1       59505579.17  \n",
       "2       17145773.90  \n",
       "3       51363864.59  \n",
       "4       29476513.33  "
      ]
     },
     "execution_count": 14,
     "metadata": {},
     "output_type": "execute_result"
    }
   ],
   "source": [
    "#Carga de datos\n",
    "df = pd.read_pickle(PKL_PATH)\n",
    "print(f\"DataFrame cargado con {len(df):,} filas y {df.shape[1]} columnas\")\n",
    "\n",
    "if \"fecha_llegada\" in df.columns:\n",
    "    df[\"fecha_llegada\"] = pd.to_datetime(df[\"fecha_llegada\"], errors = \"coerce\")\n",
    "\n",
    "for c in NUM_COLS:\n",
    "    if c in df.columns:\n",
    "        df[c] = pd.to_numeric(df[c], errors=\"coerce\")\n",
    "\n",
    "df.head()"
   ]
  },
  {
   "cell_type": "code",
   "execution_count": 15,
   "id": "31b2f6e8",
   "metadata": {},
   "outputs": [
    {
     "name": "stdout",
     "output_type": "stream",
     "text": [
      "Errores de esquema Ninguno\n"
     ]
    }
   ],
   "source": [
    "# Validación del esquema\n",
    "errores = []\n",
    "advertencias = []\n",
    "checks = []\n",
    "\n",
    "cols_ok = list(df.columns) == ESPERADO\n",
    "\n",
    "if not cols_ok:\n",
    "    diff_mas = list(set(df.columns) - set(ESPERADO))\n",
    "    diff_menos = list(set(ESPERADO) - set(df.columns))\n",
    "    errores.append({\n",
    "        \"tipo\": \"esquema\",\n",
    "        \"mensaje\": f\"Columnas inesperadas: +{diff_mas} / faltantes: {diff_menos}\"\n",
    "    })\n",
    "\n",
    "print(\"Errores de esquema\", errores if errores else \"Ninguno\")"
   ]
  }
 ],
 "metadata": {
  "kernelspec": {
   "display_name": "venv_ML_I",
   "language": "python",
   "name": "python3"
  },
  "language_info": {
   "codemirror_mode": {
    "name": "ipython",
    "version": 3
   },
   "file_extension": ".py",
   "mimetype": "text/x-python",
   "name": "python",
   "nbconvert_exporter": "python",
   "pygments_lexer": "ipython3",
   "version": "3.13.1"
  }
 },
 "nbformat": 4,
 "nbformat_minor": 5
}
