{
 "cells": [
  {
   "cell_type": "code",
   "execution_count": 3,
   "id": "f6bbf2b0",
   "metadata": {},
   "outputs": [
    {
     "name": "stdout",
     "output_type": "stream",
     "text": [
      "Dataset sintético guardado en ..\\data_sintetica\\mantenimiento_sintetico.pkl\n",
      "       fecha    tecnico tipo_mantenimiento       equipo  horas_trabajadas  \\\n",
      "0 2024-11-23  Tecnico_7         Preventivo  Perforadora                 3   \n",
      "1 2024-02-27  Tecnico_4            Critico       Correa                 2   \n",
      "2 2024-01-13  Tecnico_8         Correctivo  Perforadora                 2   \n",
      "3 2024-05-20  Tecnico_5            Critico       Correa                10   \n",
      "4 2024-05-05  Tecnico_7         Preventivo       Planta                 2   \n",
      "\n",
      "   tiempo_parada  costo_usd  \n",
      "0             17        704  \n",
      "1             44       1081  \n",
      "2             34       6175  \n",
      "3             29       9532  \n",
      "4             23       5847  \n"
     ]
    }
   ],
   "source": [
    "import pandas as pd\n",
    "import numpy as np\n",
    "import os\n",
    "import pickle\n",
    "from datetime import datetime, timedelta\n",
    "import random\n",
    "\n",
    "# 1. Parámetros de la simulación\n",
    "np.random.seed(42)\n",
    "random.seed(42)\n",
    "\n",
    "# Cantidad de registros\n",
    "n_registros = 500\n",
    "\n",
    "# Fechas aleatorias en el último año\n",
    "fechas = [datetime(2024, 1, 1) + timedelta(days=random.randint(0, 365)) for _ in range(n_registros)]\n",
    "\n",
    "# Técnicos (recursos humanos)\n",
    "tecnicos = [f\"Tecnico_{i}\" for i in range(1, 11)]\n",
    "\n",
    "# Tipos de mantenimiento\n",
    "tipos_mantenimiento = [\"Preventivo\", \"Correctivo\", \"Critico\"]\n",
    "\n",
    "# Áreas/equipos\n",
    "equipos = [\"Chancadora\", \"Molino\", \"Correa\", \"Planta\", \"Perforadora\"]\n",
    "\n",
    "# 2. Generación de datos sintéticos\n",
    "data = pd.DataFrame({\n",
    "    \"fecha\": fechas,\n",
    "    \"tecnico\": np.random.choice(tecnicos, size=n_registros),\n",
    "    \"tipo_mantenimiento\": np.random.choice(tipos_mantenimiento, size=n_registros, p=[0.5, 0.3, 0.2]),\n",
    "    \"equipo\": np.random.choice(equipos, size=n_registros),\n",
    "    \"horas_trabajadas\": np.random.randint(2, 12, size=n_registros),\n",
    "    \"tiempo_parada\": np.random.randint(0, 48, size=n_registros),  # horas de parada de equipo\n",
    "    \"costo_usd\": np.random.randint(500, 10000, size=n_registros)\n",
    "})\n",
    "\n",
    "# 3. Ruta de guardado\n",
    "ruta_guardado = os.path.join(\"..\",\"data_sintetica\", \"mantenimiento_sintetico.pkl\")\n",
    "os.makedirs(os.path.join(\"..\",\"data_sintetica\"), exist_ok=True)\n",
    "\n",
    "# 4. Guardar dataset como pickle\n",
    "with open(ruta_guardado, \"wb\") as f:\n",
    "    pickle.dump(data, f)\n",
    "\n",
    "print(f\"Dataset sintético guardado en {ruta_guardado}\")\n",
    "print(data.head())"
   ]
  }
 ],
 "metadata": {
  "kernelspec": {
   "display_name": "venv_ML_I",
   "language": "python",
   "name": "python3"
  },
  "language_info": {
   "codemirror_mode": {
    "name": "ipython",
    "version": 3
   },
   "file_extension": ".py",
   "mimetype": "text/x-python",
   "name": "python",
   "nbconvert_exporter": "python",
   "pygments_lexer": "ipython3",
   "version": "3.13.1"
  }
 },
 "nbformat": 4,
 "nbformat_minor": 5
}
