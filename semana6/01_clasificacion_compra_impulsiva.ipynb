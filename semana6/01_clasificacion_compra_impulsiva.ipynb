{
 "cells": [
  {
   "cell_type": "markdown",
   "id": "6e6b930d",
   "metadata": {},
   "source": [
    "## Leer datos"
   ]
  },
  {
   "cell_type": "code",
   "execution_count": null,
   "id": "d9de2b69",
   "metadata": {},
   "outputs": [],
   "source": [
    "from pathlib import Path\n",
    "import pandas as pd \n",
    "import numpy as np\n",
    "import matplotlib.pyplot as plt \n",
    "import runpy, importlib.util, importlib.machinery"
   ]
  },
  {
   "cell_type": "code",
   "execution_count": 7,
   "id": "4e3690f1",
   "metadata": {},
   "outputs": [
    {
     "name": "stdout",
     "output_type": "stream",
     "text": [
      "ROOT -> D:\\IC\\Y03AN1_Machine_Learning_I\n",
      "PKL_PATH -> D:\\IC\\Y03AN1_Machine_Learning_I\\data_sintetica\\hipermercados.pkl\n"
     ]
    }
   ],
   "source": [
    "#Localizar la carpeta raiz\n",
    "def find_root(start: Path = Path.cwd(), marker: str = \"data_sintetica\", max_up: int = 8) -> Path:\n",
    "    p = start.resolve()\n",
    "    for _ in range(max_up):\n",
    "        if (p / marker).exists():\n",
    "            return p\n",
    "        p = p.parent\n",
    "    raise FileNotFoundError(f\"No se encontró la carpeta '{marker}' al subir directorios.\")\n",
    "\n",
    "ROOT = find_root()\n",
    "PKL_PATH = ROOT / \"data_sintetica\" / \"hipermercados.pkl\"\n",
    "OUT_DIR  = ROOT / \"resultado de modelos\"\n",
    "OUT_DIR.mkdir(parents=True, exist_ok=True)\n",
    "\n",
    "print(\"ROOT ->\", ROOT)\n",
    "print(\"PKL_PATH ->\", PKL_PATH)"
   ]
  },
  {
   "cell_type": "code",
   "execution_count": 8,
   "id": "73da38c3",
   "metadata": {},
   "outputs": [
    {
     "name": "stdout",
     "output_type": "stream",
     "text": [
      "Generador localizado en:  D:\\IC\\Y03AN1_Machine_Learning_I\\semana6\\data_sintetica_hipermercados.py\n",
      "✅ PKL guardado en: D:\\IC\\Y03AN1_Machine_Learning_I\\data_sintetica\\hipermercados.pkl | Filas: 50,000\n"
     ]
    },
    {
     "data": {
      "text/html": [
       "<div>\n",
       "<style scoped>\n",
       "    .dataframe tbody tr th:only-of-type {\n",
       "        vertical-align: middle;\n",
       "    }\n",
       "\n",
       "    .dataframe tbody tr th {\n",
       "        vertical-align: top;\n",
       "    }\n",
       "\n",
       "    .dataframe thead th {\n",
       "        text-align: right;\n",
       "    }\n",
       "</style>\n",
       "<table border=\"1\" class=\"dataframe\">\n",
       "  <thead>\n",
       "    <tr style=\"text-align: right;\">\n",
       "      <th></th>\n",
       "      <th>id_tx</th>\n",
       "      <th>tienda</th>\n",
       "      <th>segmento_ingreso</th>\n",
       "      <th>puntos_lealtad</th>\n",
       "      <th>frecuencia_hist</th>\n",
       "      <th>clima</th>\n",
       "      <th>fin_semana</th>\n",
       "      <th>hora</th>\n",
       "      <th>trafico_tienda</th>\n",
       "      <th>promo_tipo</th>\n",
       "      <th>cabecera_gondola</th>\n",
       "      <th>cross_selling</th>\n",
       "      <th>degustacion</th>\n",
       "      <th>n_items</th>\n",
       "      <th>ticket_soles</th>\n",
       "      <th>compra_impulsiva</th>\n",
       "      <th>ticket_alto</th>\n",
       "    </tr>\n",
       "  </thead>\n",
       "  <tbody>\n",
       "    <tr>\n",
       "      <th>0</th>\n",
       "      <td>1</td>\n",
       "      <td>Hiper Vecinal</td>\n",
       "      <td>Medio</td>\n",
       "      <td>24</td>\n",
       "      <td>6</td>\n",
       "      <td>Soleado</td>\n",
       "      <td>1</td>\n",
       "      <td>15</td>\n",
       "      <td>254</td>\n",
       "      <td>2x1</td>\n",
       "      <td>1</td>\n",
       "      <td>1</td>\n",
       "      <td>0</td>\n",
       "      <td>10</td>\n",
       "      <td>89.27</td>\n",
       "      <td>1</td>\n",
       "      <td>0</td>\n",
       "    </tr>\n",
       "    <tr>\n",
       "      <th>1</th>\n",
       "      <td>2</td>\n",
       "      <td>Hiper Vecinal</td>\n",
       "      <td>Medio</td>\n",
       "      <td>46</td>\n",
       "      <td>6</td>\n",
       "      <td>Nublado</td>\n",
       "      <td>0</td>\n",
       "      <td>11</td>\n",
       "      <td>203</td>\n",
       "      <td>Descuento</td>\n",
       "      <td>0</td>\n",
       "      <td>1</td>\n",
       "      <td>0</td>\n",
       "      <td>6</td>\n",
       "      <td>88.37</td>\n",
       "      <td>1</td>\n",
       "      <td>0</td>\n",
       "    </tr>\n",
       "    <tr>\n",
       "      <th>2</th>\n",
       "      <td>3</td>\n",
       "      <td>Hiper Urbano</td>\n",
       "      <td>Bajo</td>\n",
       "      <td>40</td>\n",
       "      <td>9</td>\n",
       "      <td>Soleado</td>\n",
       "      <td>0</td>\n",
       "      <td>22</td>\n",
       "      <td>223</td>\n",
       "      <td>2x1</td>\n",
       "      <td>1</td>\n",
       "      <td>1</td>\n",
       "      <td>0</td>\n",
       "      <td>10</td>\n",
       "      <td>67.88</td>\n",
       "      <td>1</td>\n",
       "      <td>1</td>\n",
       "    </tr>\n",
       "    <tr>\n",
       "      <th>3</th>\n",
       "      <td>4</td>\n",
       "      <td>Hiper Vecinal</td>\n",
       "      <td>Bajo</td>\n",
       "      <td>17</td>\n",
       "      <td>1</td>\n",
       "      <td>Lluvioso</td>\n",
       "      <td>0</td>\n",
       "      <td>22</td>\n",
       "      <td>187</td>\n",
       "      <td>2x1</td>\n",
       "      <td>0</td>\n",
       "      <td>1</td>\n",
       "      <td>0</td>\n",
       "      <td>6</td>\n",
       "      <td>60.39</td>\n",
       "      <td>1</td>\n",
       "      <td>0</td>\n",
       "    </tr>\n",
       "    <tr>\n",
       "      <th>4</th>\n",
       "      <td>5</td>\n",
       "      <td>Hiper Vecinal</td>\n",
       "      <td>Medio</td>\n",
       "      <td>115</td>\n",
       "      <td>4</td>\n",
       "      <td>Nublado</td>\n",
       "      <td>1</td>\n",
       "      <td>19</td>\n",
       "      <td>247</td>\n",
       "      <td>2x1</td>\n",
       "      <td>1</td>\n",
       "      <td>1</td>\n",
       "      <td>0</td>\n",
       "      <td>10</td>\n",
       "      <td>70.24</td>\n",
       "      <td>0</td>\n",
       "      <td>0</td>\n",
       "    </tr>\n",
       "  </tbody>\n",
       "</table>\n",
       "</div>"
      ],
      "text/plain": [
       "   id_tx         tienda segmento_ingreso  puntos_lealtad  frecuencia_hist  \\\n",
       "0      1  Hiper Vecinal            Medio              24                6   \n",
       "1      2  Hiper Vecinal            Medio              46                6   \n",
       "2      3   Hiper Urbano             Bajo              40                9   \n",
       "3      4  Hiper Vecinal             Bajo              17                1   \n",
       "4      5  Hiper Vecinal            Medio             115                4   \n",
       "\n",
       "      clima  fin_semana  hora  trafico_tienda promo_tipo  cabecera_gondola  \\\n",
       "0   Soleado           1    15             254        2x1                 1   \n",
       "1   Nublado           0    11             203  Descuento                 0   \n",
       "2   Soleado           0    22             223        2x1                 1   \n",
       "3  Lluvioso           0    22             187        2x1                 0   \n",
       "4   Nublado           1    19             247        2x1                 1   \n",
       "\n",
       "   cross_selling  degustacion  n_items  ticket_soles  compra_impulsiva  \\\n",
       "0              1            0       10         89.27                 1   \n",
       "1              1            0        6         88.37                 1   \n",
       "2              1            0       10         67.88                 1   \n",
       "3              1            0        6         60.39                 1   \n",
       "4              1            0       10         70.24                 0   \n",
       "\n",
       "   ticket_alto  \n",
       "0            0  \n",
       "1            0  \n",
       "2            1  \n",
       "3            0  \n",
       "4            0  "
      ]
     },
     "execution_count": 8,
     "metadata": {},
     "output_type": "execute_result"
    }
   ],
   "source": [
    "#Si no existe el PKL, intenta generarlo\n",
    "if not PKL_PATH.exists():\n",
    "    gens = list(ROOT.glob(\"**/data_sintetica_hipermercados.py\"))\n",
    "    if not gens:\n",
    "        raise FileNotFoundError(\"No existe el PKL y no se encontró el archivo python\")\n",
    "    gen_file = str(gens[0])\n",
    "    print(\"Generador localizado en: \", gen_file)\n",
    "\n",
    "    #1) primer intento, ejecutar como __main__\n",
    "    try:\n",
    "        runpy.run_path(gen_file, run_name=\"__main__\")\n",
    "    except Exception as e:\n",
    "        print(\"runpy.run_path falló, inteto alternativo: \",e)\n",
    "\n",
    "df = pd.read_pickle(PKL_PATH)\n",
    "df.head()"
   ]
  },
  {
   "cell_type": "code",
   "execution_count": 9,
   "id": "284ccb30",
   "metadata": {},
   "outputs": [],
   "source": [
    "#Preparación y modelo\n",
    "from sklearn.model_selection import train_test_split\n",
    "from sklearn.preprocessing import OneHotEncoder, StandardScaler\n",
    "from sklearn.compose import ColumnTransformer\n",
    "from sklearn.pipeline import Pipeline\n",
    "from sklearn.metrics import (\n",
    "    accuracy_score, precision_score, recall_score, f1_score,\n",
    "    roc_auc_score, confusion_matrix, RocCurveDisplay, ConfusionMatrixDisplay\n",
    ")\n",
    "from sklearn.linear_model import LogisticRegression\n",
    "from sklearn.ensemble import RandomForestClassifier"
   ]
  },
  {
   "cell_type": "code",
   "execution_count": 11,
   "id": "f5a848cf",
   "metadata": {},
   "outputs": [
    {
     "data": {
      "text/html": [
       "<div>\n",
       "<style scoped>\n",
       "    .dataframe tbody tr th:only-of-type {\n",
       "        vertical-align: middle;\n",
       "    }\n",
       "\n",
       "    .dataframe tbody tr th {\n",
       "        vertical-align: top;\n",
       "    }\n",
       "\n",
       "    .dataframe thead th {\n",
       "        text-align: right;\n",
       "    }\n",
       "</style>\n",
       "<table border=\"1\" class=\"dataframe\">\n",
       "  <thead>\n",
       "    <tr style=\"text-align: right;\">\n",
       "      <th></th>\n",
       "      <th>accuracy</th>\n",
       "      <th>precision</th>\n",
       "      <th>recall</th>\n",
       "      <th>f1</th>\n",
       "      <th>roc_auc</th>\n",
       "    </tr>\n",
       "  </thead>\n",
       "  <tbody>\n",
       "    <tr>\n",
       "      <th>logistic</th>\n",
       "      <td>0.9952</td>\n",
       "      <td>0.9968</td>\n",
       "      <td>0.9875</td>\n",
       "      <td>0.9921</td>\n",
       "      <td>0.9999</td>\n",
       "    </tr>\n",
       "    <tr>\n",
       "      <th>rf</th>\n",
       "      <td>0.9999</td>\n",
       "      <td>0.9997</td>\n",
       "      <td>1.0000</td>\n",
       "      <td>0.9999</td>\n",
       "      <td>1.0000</td>\n",
       "    </tr>\n",
       "  </tbody>\n",
       "</table>\n",
       "</div>"
      ],
      "text/plain": [
       "          accuracy  precision  recall      f1  roc_auc\n",
       "logistic    0.9952     0.9968  0.9875  0.9921   0.9999\n",
       "rf          0.9999     0.9997  1.0000  0.9999   1.0000"
      ]
     },
     "execution_count": 11,
     "metadata": {},
     "output_type": "execute_result"
    }
   ],
   "source": [
    "y = df[\"compra_impulsiva\"]\n",
    "X = df.drop(columns=[\"compra_impulsiva\", \"ticket_alto\"])\n",
    "\n",
    "cat_cols = [\"tienda\", \"segmento_ingreso\", \"clima\",\"promo_tipo\"]\n",
    "num_cols = [c for c in X.columns if c not in cat_cols and c != \"id_tx\"]\n",
    "\n",
    "pre = ColumnTransformer([\n",
    "    (\"ohe\", OneHotEncoder(handle_unknown=\"ignore\"), cat_cols),\n",
    "    (\"sc\", StandardScaler(), num_cols),\n",
    "])\n",
    "\n",
    "models = {\n",
    "    \"logistic\": LogisticRegression(max_iter=200, n_jobs=None),\n",
    "    \"rf\" : RandomForestClassifier(n_estimators=200, random_state=42),\n",
    "}\n",
    "\n",
    "X_train, X_test, y_train, y_test = train_test_split(\n",
    "    X, y, test_size=0.25, random_state=42, stratify=y\n",
    ")\n",
    "\n",
    "results, fitted = {}, {}\n",
    "for name, clf in models.items():\n",
    "    pipe = Pipeline([(\"pre\", pre), (\"clf\", clf)])\n",
    "    pipe.fit(X_train, y_train)\n",
    "    y_pred  = pipe.predict(X_test)\n",
    "    y_proba = pipe.predict_proba(X_test)[:, 1]\n",
    "    results[name] = dict(\n",
    "        accuracy = accuracy_score(y_test, y_pred),\n",
    "        precision= precision_score(y_test, y_pred),\n",
    "        recall   = recall_score(y_test, y_pred),\n",
    "        f1       = f1_score(y_test, y_pred),\n",
    "        roc_auc  = roc_auc_score(y_test, y_proba),\n",
    "    )\n",
    "    fitted[name] = pipe\n",
    "\n",
    "pd.DataFrame(results).T.round(4)"
   ]
  },
  {
   "cell_type": "code",
   "execution_count": 14,
   "id": "012b8e57",
   "metadata": {},
   "outputs": [
    {
     "data": {
      "text/plain": [
       "<function matplotlib.pyplot.show(close=None, block=None)>"
      ]
     },
     "execution_count": 14,
     "metadata": {},
     "output_type": "execute_result"
    },
    {
     "data": {
      "image/png": "[encoded data removed]",
      "text/plain": [
       "<Figure size 640x480 with 1 Axes>"
      ]
     },
     "metadata": {},
     "output_type": "display_data"
    }
   ],
   "source": [
    "res_df = pd.DataFrame(results).T\n",
    "best_name = res_df[\"f1\"].idxmax()\n",
    "best = fitted[best_name]\n",
    "\n",
    "#matriz\n",
    "y_pred = best.predict(X_test)\n",
    "cm = confusion_matrix(y_test, y_pred)\n",
    "fig, ax = plt.subplots()\n",
    "ConfusionMatrixDisplay(cm).plot(ax = ax, colorbar=False)\n",
    "plt. title(f\"Matriz de confusión - {best_name}\")\n",
    "fig.tight_layout()\n",
    "fig.savefig(OUT_DIR/\"clasificacion_matriz_confusion.png\", dpi=150)\n",
    "plt.show"
   ]
  },
  {
   "cell_type": "code",
   "execution_count": 16,
   "id": "a1e8cd5c",
   "metadata": {},
   "outputs": [
    {
     "data": {
      "image/png": "[encoded data removed]",
      "text/plain": [
       "<Figure size 640x480 with 1 Axes>"
      ]
     },
     "metadata": {},
     "output_type": "display_data"
    }
   ],
   "source": [
    "y_proba = best.predict_proba(X_test)[:,1]\n",
    "fig2, ax2 = plt.subplots()\n",
    "RocCurveDisplay.from_predictions(y_test, y_proba, ax=ax2)\n",
    "plt.title(f\"Curva ROC {best_name}\")\n",
    "fig2.tight_layout()\n",
    "fig2.savefig(OUT_DIR/\"clasificacion_curva_roc.png\", dpi=150)\n",
    "plt.show()"
   ]
  }
 ],
 "metadata": {
  "kernelspec": {
   "display_name": "venv_ML_I",
   "language": "python",
   "name": "python3"
  },
  "language_info": {
   "codemirror_mode": {
    "name": "ipython",
    "version": 3
   },
   "file_extension": ".py",
   "mimetype": "text/x-python",
   "name": "python",
   "nbconvert_exporter": "python",
   "pygments_lexer": "ipython3",
   "version": "3.13.1"
  }
 },
 "nbformat": 4,
 "nbformat_minor": 5
}
